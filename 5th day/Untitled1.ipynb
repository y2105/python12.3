{
 "cells": [
  {
   "cell_type": "code",
   "execution_count": 3,
   "id": "7a6a0638-3aeb-419a-880f-4802b1e90073",
   "metadata": {},
   "outputs": [
    {
     "ename": "SyntaxError",
     "evalue": "invalid syntax (426992068.py, line 1)",
     "output_type": "error",
     "traceback": [
      "\u001b[1;36m  Cell \u001b[1;32mIn[3], line 1\u001b[1;36m\u001b[0m\n\u001b[1;33m    int function(int, int[]);\u001b[0m\n\u001b[1;37m        ^\u001b[0m\n\u001b[1;31mSyntaxError\u001b[0m\u001b[1;31m:\u001b[0m invalid syntax\n"
     ]
    }
   ],
   "source": [
    "int function(int, int[]);\n",
    "\n",
    "int main()\n",
    "{\n",
    "    int i, a = 20;\n",
    "    int arr[5] = { 10, 20, 30, 40, 50 };\n",
    "\n",
    "    a = function(a, &arr[0]);\n",
    "\n",
    "    printf(\"value of a is %d\\n\", a);\n",
    "    for (i = 0; i < 5; i++) {\n",
    "        printf(\"value of arr[%d] is %d\\n\", i, arr[i]);\n",
    "    }\n",
    "\n",
    "    return 0;\n",
    "}\n",
    "\n",
    "int function(int a, int* arr)\n",
    "{\n",
    "    int i;\n",
    "    a = a + 20;\n",
    "\n",
    "    arr[0] = arr[0] + 50;\n",
    "    arr[1] = arr[1] + 50;\n",
    "    arr[2] = arr[2] + 50;\n",
    "    arr[3] = arr[3] + 50;\n",
    "    arr[4] = arr[4] + 50;\n",
    "\n",
    "    return a;\n",
    "}"
   ]
  },
  {
   "cell_type": "code",
   "execution_count": 5,
   "id": "b682702a-b81e-4a93-aca2-22888829f27d",
   "metadata": {},
   "outputs": [
    {
     "ename": "SyntaxError",
     "evalue": "invalid syntax (1455901159.py, line 1)",
     "output_type": "error",
     "traceback": [
      "\u001b[1;36m  Cell \u001b[1;32mIn[5], line 1\u001b[1;36m\u001b[0m\n\u001b[1;33m    int function(int, int[]);\u001b[0m\n\u001b[1;37m        ^\u001b[0m\n\u001b[1;31mSyntaxError\u001b[0m\u001b[1;31m:\u001b[0m invalid syntax\n"
     ]
    }
   ],
   "source": [
    "int function(int, int[]);\n",
    "\n",
    "int main()\n",
    "{\n",
    "    int i, a = 20;\n",
    "    int arr[5] = { 10, 20, 30, 40, 50 };\n"
   ]
  },
  {
   "cell_type": "code",
   "execution_count": 9,
   "id": "7946cbfc-daac-42da-97d6-c3d9727e9599",
   "metadata": {},
   "outputs": [
    {
     "ename": "SyntaxError",
     "evalue": "invalid syntax (1438913999.py, line 4)",
     "output_type": "error",
     "traceback": [
      "\u001b[1;36m  Cell \u001b[1;32mIn[9], line 4\u001b[1;36m\u001b[0m\n\u001b[1;33m    int function(int, int[]);\u001b[0m\n\u001b[1;37m        ^\u001b[0m\n\u001b[1;31mSyntaxError\u001b[0m\u001b[1;31m:\u001b[0m invalid syntax\n"
     ]
    }
   ],
   "source": [
    "#include <stdio.h>\n",
    "#include <string.h>\n",
    "\n",
    "int function(int, int[]);\n",
    "\n",
    "int main()\n",
    "{\n",
    "    int i, a = 20;\n",
    "    int arr[5] = { 10, 20, 30, 40, 50 };\n",
    "\n",
    "    a = function(a, &arr[0]);\n",
    "\n",
    "    printf(\"value of a is %d\\n\", a);\n",
    "    for (i = 0; i < 5; i++) {\n",
    "        printf(\"value of arr[%d] is %d\\n\", i, arr[i]);\n",
    "    }\n",
    "\n",
    "    return 0;\n",
    "}\n",
    "\n",
    "int function(int a, int* arr)\n",
    "{\n",
    "    int i;\n",
    "    a = a + 20;\n",
    "\n",
    "    arr[0] = arr[0] + 50;\n",
    "    arr[1] = arr[1] + 50;\n",
    "    arr[2] = arr[2] + 50;\n",
    "    arr[3] = arr[3] + 50;\n",
    "    arr[4] = arr[4] + 50;\n",
    "\n",
    "    return a;\n",
    "}"
   ]
  },
  {
   "cell_type": "code",
   "execution_count": 33,
   "id": "6eaeb6e5-6a78-496a-967e-24a9510adb8c",
   "metadata": {},
   "outputs": [
    {
     "ename": "SyntaxError",
     "evalue": "invalid syntax (3088281843.py, line 1)",
     "output_type": "error",
     "traceback": [
      "\u001b[1;36m  Cell \u001b[1;32mIn[33], line 1\u001b[1;36m\u001b[0m\n\u001b[1;33m    include <stdio.h>\u001b[0m\n\u001b[1;37m                     ^\u001b[0m\n\u001b[1;31mSyntaxError\u001b[0m\u001b[1;31m:\u001b[0m invalid syntax\n"
     ]
    }
   ],
   "source": [
    "\n",
    "\n",
    "include <stdio.h>\n",
    "\n",
    "\n",
    "void swap(int* x, int* y)\n",
    "{\n",
    "    int temp = *x;\n",
    "    *x = *y;\n",
    "    *y = temp;\n",
    "}\n",
    "\n",
    "// Driver Code\n",
    "int main()\n",
    "{\n",
    "    // Declaring Integer\n",
    "    int x = 1, y = 5;\n",
    "    printf(\"Before Swapping: x:%d , y:%d\\n\", x, y);\n",
    "\n",
    "    // Calling the function\n",
    "    swap(&x, &y);\n",
    "    printf(\"After Swapping: x:%d , y:%d\\n\", x, y);\n",
    "\n",
    "    return 0;\n",
    "}"
   ]
  },
  {
   "cell_type": "code",
   "execution_count": 39,
   "id": "fb69c4ff-fd66-4ae1-b0bb-e757a987e702",
   "metadata": {},
   "outputs": [
    {
     "ename": "SyntaxError",
     "evalue": "invalid syntax (2771044039.py, line 4)",
     "output_type": "error",
     "traceback": [
      "\u001b[1;36m  Cell \u001b[1;32mIn[39], line 4\u001b[1;36m\u001b[0m\n\u001b[1;33m    int sum(int x, int y)\u001b[0m\n\u001b[1;37m        ^\u001b[0m\n\u001b[1;31mSyntaxError\u001b[0m\u001b[1;31m:\u001b[0m invalid syntax\n"
     ]
    }
   ],
   "source": [
    "#include <stdio.h>\n",
    "\n",
    "\n",
    "int sum(int x, int y)\n",
    "{\n",
    "    int c;\n",
    "    c = x + y;\n",
    "\n",
    "    // Integer value retured\n",
    "    return c;\n",
    "}\n",
    "\n",
    "// Driver Code\n",
    "int main()\n",
    "{\n",
    "    // Integer Declared\n",
    "    int a = 3, b = 2;\n",
    "\n",
    "    // Function Called\n",
    "    int c = sum(a, b);\n",
    "    print(\"Sum of %d and %d : %d\", a, b, c);\n",
    "\n",
    "    return 0;\n",
    "}\n"
   ]
  },
  {
   "cell_type": "code",
   "execution_count": 5,
   "id": "48d02c64-4a9d-4c20-8bad-4abe764da095",
   "metadata": {},
   "outputs": [
    {
     "name": "stdin",
     "output_type": "stream",
     "text": [
      "Enter your first name:  kiran\n",
      "Enter your second name:  kumar\n"
     ]
    },
    {
     "name": "stdout",
     "output_type": "stream",
     "text": [
      "kiran kumar\n"
     ]
    }
   ],
   "source": [
    "a=input(\"Enter your first name: \")\n",
    "b=input(\"Enter your second name: \")\n",
    "print (a,b)"
   ]
  },
  {
   "cell_type": "code",
   "execution_count": 9,
   "id": "39f261e3-1261-49ad-b29a-f6aaa3c1176b",
   "metadata": {},
   "outputs": [
    {
     "data": {
      "text/plain": [
       "['a', 'b', 'c', 'd', 'e', 'f', 'g', 'h']"
      ]
     },
     "execution_count": 9,
     "metadata": {},
     "output_type": "execute_result"
    }
   ],
   "source": [
    "list = [\"a\",\"b\",\"c\",\"d\",\"e\",\"f\",\"g\",\"h\"]\n",
    "list"
   ]
  },
  {
   "cell_type": "code",
   "execution_count": null,
   "id": "cec2dbab-72f6-4f5c-8d0a-dbc8e869dc2c",
   "metadata": {},
   "outputs": [],
   "source": []
  }
 ],
 "metadata": {
  "kernelspec": {
   "display_name": "Python [conda env:base] *",
   "language": "python",
   "name": "conda-base-py"
  },
  "language_info": {
   "codemirror_mode": {
    "name": "ipython",
    "version": 3
   },
   "file_extension": ".py",
   "mimetype": "text/x-python",
   "name": "python",
   "nbconvert_exporter": "python",
   "pygments_lexer": "ipython3",
   "version": "3.12.7"
  }
 },
 "nbformat": 4,
 "nbformat_minor": 5
}
