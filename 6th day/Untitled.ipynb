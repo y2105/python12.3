{
 "cells": [
  {
   "cell_type": "code",
   "execution_count": 63,
   "id": "b2e8d6eb-2aee-42c8-852f-50848e49ed94",
   "metadata": {},
   "outputs": [
    {
     "name": "stdout",
     "output_type": "stream",
     "text": [
      "10 10\n"
     ]
    }
   ],
   "source": [
    "x = 5\n",
    "y =10\n",
    "x = temp\n",
    "temp = x \n",
    "x= y\n",
    "print (x,y)\n"
   ]
  },
  {
   "cell_type": "code",
   "execution_count": 39,
   "id": "68ed9d61",
   "metadata": {},
   "outputs": [
    {
     "name": "stdout",
     "output_type": "stream",
     "text": [
      "1\n",
      "2\n",
      "3\n",
      "4\n",
      "5\n",
      "6\n"
     ]
    }
   ],
   "source": [
    "i= 6\n",
    "for i in range(1,7):\n",
    " print (i)"
   ]
  },
  {
   "cell_type": "code",
   "execution_count": null,
   "id": "07ce42b7",
   "metadata": {},
   "outputs": [
    {
     "name": "stdout",
     "output_type": "stream",
     "text": [
      "2\n",
      "3\n",
      "4\n",
      "5\n"
     ]
    }
   ],
   "source": [
    "i = 2 \n",
    "while i<=5:\n",
    "  print (i)\n",
    "  i = i+1"
   ]
  }
 ],
 "metadata": {
  "kernelspec": {
   "display_name": "Python 3",
   "language": "python",
   "name": "python3"
  },
  "language_info": {
   "codemirror_mode": {
    "name": "ipython",
    "version": 3
   },
   "file_extension": ".py",
   "mimetype": "text/x-python",
   "name": "python",
   "nbconvert_exporter": "python",
   "pygments_lexer": "ipython3",
   "version": "3.11.9"
  }
 },
 "nbformat": 4,
 "nbformat_minor": 5
}
