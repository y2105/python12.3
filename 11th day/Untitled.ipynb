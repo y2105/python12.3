{
 "cells": [
  {
   "cell_type": "code",
   "execution_count": 11,
   "id": "310b5e7d-9fdb-4d1b-8707-fc44cf3563c4",
   "metadata": {},
   "outputs": [
    {
     "name": "stdout",
     "output_type": "stream",
     "text": [
      "<module 'pandas' from 'D:\\\\anaconda\\\\Lib\\\\site-packages\\\\pandas\\\\__init__.py'>\n"
     ]
    }
   ],
   "source": [
    "import pandas as pd\n",
    "x=['Python', 'Pandas'] \n",
    "df = pd.DataFrame(x)\n",
    "print (pd)"
   ]
  },
  {
   "cell_type": "code",
   "execution_count": 13,
   "id": "376b92dd-bbff-4f77-8f89-6a4a2118cd8b",
   "metadata": {},
   "outputs": [
    {
     "name": "stdout",
     "output_type": "stream",
     "text": [
      "Defaulting to user installation because normal site-packages is not writeable\n",
      "Requirement already satisfied: numpy in d:\\anaconda\\lib\\site-packages (1.26.4)\n",
      "Note: you may need to restart the kernel to use updated packages.\n"
     ]
    }
   ],
   "source": [
    "pip install numpy"
   ]
  },
  {
   "cell_type": "code",
   "execution_count": 17,
   "id": "2593d18b-714a-433a-be7c-68f0b8f6b6cd",
   "metadata": {},
   "outputs": [],
   "source": [
    "import numpy\n"
   ]
  },
  {
   "cell_type": "code",
   "execution_count": 19,
   "id": "31fbde9c-8a32-4195-903c-c40b62495edd",
   "metadata": {},
   "outputs": [],
   "source": [
    "import numpy as np"
   ]
  },
  {
   "cell_type": "code",
   "execution_count": 23,
   "id": "03055663-c535-4544-b72a-a30c0392589f",
   "metadata": {},
   "outputs": [
    {
     "name": "stdout",
     "output_type": "stream",
     "text": [
      "1.26.4\n"
     ]
    }
   ],
   "source": [
    "print(np.__version__)"
   ]
  },
  {
   "cell_type": "code",
   "execution_count": 45,
   "id": "230b4cd6-3751-43e2-871e-9723481cc538",
   "metadata": {},
   "outputs": [
    {
     "name": "stdout",
     "output_type": "stream",
     "text": [
      "['10' '27' 'play' '24' '18' '1']\n"
     ]
    }
   ],
   "source": [
    "a = np.array([10,27,\"play\",24,18,1])\n",
    "print(a)"
   ]
  },
  {
   "cell_type": "code",
   "execution_count": 31,
   "id": "f4fc4516-685b-44cf-ba9d-f8fa52199fde",
   "metadata": {},
   "outputs": [
    {
     "name": "stdout",
     "output_type": "stream",
     "text": [
      "[ 0  2  4  6  8 10 12 14 16 18]\n"
     ]
    }
   ],
   "source": [
    "a = np.arange(0,20,2)\n",
    "print(a)"
   ]
  },
  {
   "cell_type": "code",
   "execution_count": 53,
   "id": "52a06700-6e9d-4e10-8eec-64237172a577",
   "metadata": {},
   "outputs": [
    {
     "name": "stdout",
     "output_type": "stream",
     "text": [
      "[[1. 1. 1. 1. 1. 1.]\n",
      " [1. 1. 1. 1. 1. 1.]]\n"
     ]
    }
   ],
   "source": [
    "a= np.ones((2,6))\n",
    "print(a)"
   ]
  },
  {
   "cell_type": "code",
   "execution_count": 95,
   "id": "8d0c7669-72a6-48f4-9183-21297caa9b7f",
   "metadata": {},
   "outputs": [
    {
     "name": "stdout",
     "output_type": "stream",
     "text": [
      "[[1 1 1]\n",
      " [1 1 1]]\n"
     ]
    }
   ],
   "source": [
    "arr = [[1,2,3],[4,5,6]]\n",
    "a=np.ones_like(arr)\n",
    "print(a)"
   ]
  },
  {
   "cell_type": "code",
   "execution_count": 69,
   "id": "2ba7575f-7b5a-4987-92ad-18b698fb6ad5",
   "metadata": {},
   "outputs": [
    {
     "name": "stdout",
     "output_type": "stream",
     "text": [
      "[[6.23042070e-307 4.67296746e-307]\n",
      " [1.69121096e-306 1.02360935e-306]\n",
      " [1.89146896e-307 7.56571288e-307]\n",
      " [3.11525958e-307 1.24610723e-306]]\n"
     ]
    }
   ],
   "source": [
    "a = np.empty((4,2))\n",
    "print(a)"
   ]
  },
  {
   "cell_type": "code",
   "execution_count": 81,
   "id": "bfdd634f-9582-418a-9587-2a1eaeaed247",
   "metadata": {},
   "outputs": [
    {
     "name": "stdout",
     "output_type": "stream",
     "text": [
      "[[43 43]\n",
      " [43 43]\n",
      " [43 43]\n",
      " [43 43]]\n"
     ]
    }
   ],
   "source": [
    "a = np.full((4,2),43)\n",
    "print(a)"
   ]
  },
  {
   "cell_type": "code",
   "execution_count": 99,
   "id": "ee254fd9-4211-4a5d-9dbd-778de0fdda45",
   "metadata": {},
   "outputs": [
    {
     "name": "stdout",
     "output_type": "stream",
     "text": [
      "[ 1  1  1  1  1  2  2  2  2  2  5  5  5  5  5 27 27 27 27 27 82 82 82 82\n",
      " 82 71 71 71 71 71]\n"
     ]
    }
   ],
   "source": [
    "a= [1,2,5],[27,82,71]\n",
    "print(np.repeat(a,5))"
   ]
  },
  {
   "cell_type": "code",
   "execution_count": 127,
   "id": "a0e2e838-d3d2-4bce-9b8a-c8b6f1bcb90e",
   "metadata": {},
   "outputs": [
    {
     "name": "stdout",
     "output_type": "stream",
     "text": [
      "[[0 2 7]\n",
      " [0 2 7]\n",
      " [0 2 7]\n",
      " [0 2 7]\n",
      " [6 8 9]\n",
      " [6 8 9]\n",
      " [6 8 9]\n",
      " [6 8 9]]\n"
     ]
    }
   ],
   "source": [
    "arr = [[0,2,7],[6,8,9]]\n",
    "print(np.repeat(arr,4,axis=0)) # according  to graph"
   ]
  },
  {
   "cell_type": "code",
   "execution_count": 131,
   "id": "bb62ad11-c331-4b4b-9b18-2849d52ee515",
   "metadata": {},
   "outputs": [
    {
     "name": "stdout",
     "output_type": "stream",
     "text": [
      "[[0. 1. 0. 0. 0. 0.]\n",
      " [0. 0. 1. 0. 0. 0.]\n",
      " [0. 0. 0. 1. 0. 0.]\n",
      " [0. 0. 0. 0. 1. 0.]\n",
      " [0. 0. 0. 0. 0. 1.]\n",
      " [0. 0. 0. 0. 0. 0.]]\n"
     ]
    }
   ],
   "source": [
    "a= np.eye(6,k=1)\n",
    "print(a)"
   ]
  },
  {
   "cell_type": "code",
   "execution_count": 155,
   "id": "4b09954f-c6ac-425e-b5b0-cf4f3f13b1ce",
   "metadata": {},
   "outputs": [
    {
     "name": "stdout",
     "output_type": "stream",
     "text": [
      "2\n"
     ]
    }
   ],
   "source": [
    "a= np.array(([1,2,3],[4,5,6]))\n",
    "print(a.ndim)"
   ]
  },
  {
   "cell_type": "code",
   "execution_count": 161,
   "id": "886cdb08-e8ba-4d7b-8256-0df3f160acc3",
   "metadata": {},
   "outputs": [
    {
     "name": "stdout",
     "output_type": "stream",
     "text": [
      "3\n"
     ]
    }
   ],
   "source": [
    "a= np.array([[[1,2,3],[4,5,6],[5,8,9]]])\n",
    "print (a.ndim)"
   ]
  },
  {
   "cell_type": "code",
   "execution_count": 163,
   "id": "3846b478-fc75-4f59-97a8-e73f2e848ece",
   "metadata": {},
   "outputs": [
    {
     "name": "stdout",
     "output_type": "stream",
     "text": [
      "[[[[[[10 20 30 40]]]]]]\n"
     ]
    }
   ],
   "source": [
    "a= np.array([10,20,30,40],ndmin=6)\n",
    "print(a)"
   ]
  },
  {
   "cell_type": "code",
   "execution_count": 165,
   "id": "e21aab86-d51f-4e2e-9041-b36d9e81d1be",
   "metadata": {},
   "outputs": [
    {
     "name": "stdout",
     "output_type": "stream",
     "text": [
      "class:  ndarray\n",
      "shape:  (1, 1, 1, 1, 1, 4)\n",
      "strides:  (16, 16, 16, 16, 16, 4)\n",
      "itemsize:  4\n",
      "aligned:  True\n",
      "contiguous:  True\n",
      "fortran:  True\n",
      "data pointer: 0x213b3ce5720\n",
      "byteorder:  little\n",
      "byteswap:  False\n",
      "type: int32\n",
      "None\n"
     ]
    }
   ],
   "source": [
    "print(np.info(a))"
   ]
  },
  {
   "cell_type": "code",
   "execution_count": 169,
   "id": "f0b4c365-2587-4be0-a9d5-d28e81c93cb6",
   "metadata": {},
   "outputs": [
    {
     "name": "stdout",
     "output_type": "stream",
     "text": [
      "First element from first Dimension 100\n"
     ]
    }
   ],
   "source": [
    "arr = np.array([[10,20,30,40,50],[60,70,80,90,100]])\n",
    "\n",
    "print(f\"First element from first Dimension {arr[1,4]}\")"
   ]
  },
  {
   "cell_type": "code",
   "execution_count": 202,
   "id": "211e92f3-0d7d-4bd8-b80c-db8e26cac3b7",
   "metadata": {},
   "outputs": [
    {
     "name": "stdout",
     "output_type": "stream",
     "text": [
      "17\n"
     ]
    }
   ],
   "source": [
    "a = np.array([[10,20,30,],[18,19,20],[17,15,18]])\n",
    "print(a[2,-3])"
   ]
  },
  {
   "cell_type": "code",
   "execution_count": 210,
   "id": "cfbcf65e-cde6-4763-8fd9-b3ce6af27473",
   "metadata": {},
   "outputs": [
    {
     "name": "stdout",
     "output_type": "stream",
     "text": [
      "[2 3 4]\n"
     ]
    }
   ],
   "source": [
    "a = np.array([1,2,3,4,5,6,7,])\n",
    "print(a[1:4:1])"
   ]
  },
  {
   "cell_type": "code",
   "execution_count": 250,
   "id": "07ea7518-0abf-4899-8c3a-837b525104c7",
   "metadata": {},
   "outputs": [
    {
     "name": "stdout",
     "output_type": "stream",
     "text": [
      "[4]\n"
     ]
    }
   ],
   "source": [
    "a = np.array([1,2,3,4])\n",
    "print(a[3::1])"
   ]
  },
  {
   "cell_type": "code",
   "execution_count": null,
   "id": "2863a5b9-7c13-4b7f-bf8d-d65ebc9c4b95",
   "metadata": {},
   "outputs": [],
   "source": []
  }
 ],
 "metadata": {
  "kernelspec": {
   "display_name": "Python [conda env:base] *",
   "language": "python",
   "name": "conda-base-py"
  },
  "language_info": {
   "codemirror_mode": {
    "name": "ipython",
    "version": 3
   },
   "file_extension": ".py",
   "mimetype": "text/x-python",
   "name": "python",
   "nbconvert_exporter": "python",
   "pygments_lexer": "ipython3",
   "version": "3.12.7"
  }
 },
 "nbformat": 4,
 "nbformat_minor": 5
}
