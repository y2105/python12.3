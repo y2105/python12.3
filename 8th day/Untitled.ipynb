{
 "cells": [
  {
   "cell_type": "code",
   "execution_count": 191,
   "id": "633c58e1-dac6-4864-8d90-c9c92a556b64",
   "metadata": {},
   "outputs": [
    {
     "name": "stdin",
     "output_type": "stream",
     "text": [
      " 1\n"
     ]
    },
    {
     "name": "stdout",
     "output_type": "stream",
     "text": [
      "10\n",
      "13\n",
      "16\n",
      "19\n",
      "22\n",
      "25\n",
      "28\n"
     ]
    }
   ],
   "source": [
    "def variable():\n",
    "    i = int(input())\n",
    "variable()\n",
    "for i in range (10,30,3):\n",
    " print (i)\n"
   ]
  },
  {
   "cell_type": "code",
   "execution_count": null,
   "id": "775873b7-9017-4530-93ae-fb76a8a795bf",
   "metadata": {},
   "outputs": [],
   "source": [
    "variable()\n",
    "if i <= 30:\n",
    " print(i)\n",
    "else :\n",
    "  print(\"no number\")\n"
   ]
  },
  {
   "cell_type": "code",
   "execution_count": null,
   "id": "995c4924-4ede-4aa9-8dc2-073970280959",
   "metadata": {},
   "outputs": [],
   "source": []
  }
 ],
 "metadata": {
  "kernelspec": {
   "display_name": "Python [conda env:base] *",
   "language": "python",
   "name": "conda-base-py"
  },
  "language_info": {
   "codemirror_mode": {
    "name": "ipython",
    "version": 3
   },
   "file_extension": ".py",
   "mimetype": "text/x-python",
   "name": "python",
   "nbconvert_exporter": "python",
   "pygments_lexer": "ipython3",
   "version": "3.12.7"
  }
 },
 "nbformat": 4,
 "nbformat_minor": 5
}
